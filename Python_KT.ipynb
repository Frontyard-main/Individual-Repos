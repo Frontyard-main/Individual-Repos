{
  "nbformat": 4,
  "nbformat_minor": 0,
  "metadata": {
    "colab": {
      "name": "Python-KT.ipynb",
      "provenance": []
    },
    "kernelspec": {
      "name": "python3",
      "display_name": "Python 3"
    }
  },
  "cells": [
    {
      "cell_type": "markdown",
      "metadata": {
        "id": "ZD1hKYdgwli1",
        "colab_type": "text"
      },
      "source": [
        "**GETTING USER INPUT**"
      ]
    },
    {
      "cell_type": "code",
      "metadata": {
        "id": "uSIgrYlswT6L",
        "colab_type": "code",
        "colab": {
          "base_uri": "https://localhost:8080/",
          "height": 51
        },
        "outputId": "da0bcaf6-de79-4618-c86c-26e8931cebc0"
      },
      "source": [
        "Age = input(\"Enter your age:\")\n",
        "print(type(Age))\n",
        "#print(Age+1)"
      ],
      "execution_count": 24,
      "outputs": [
        {
          "output_type": "stream",
          "text": [
            "Enter your age:45\n",
            "<class 'str'>\n"
          ],
          "name": "stdout"
        }
      ]
    },
    {
      "cell_type": "code",
      "metadata": {
        "id": "XJ-HCK20w_qq",
        "colab_type": "code",
        "colab": {
          "base_uri": "https://localhost:8080/",
          "height": 51
        },
        "outputId": "83dff6b9-4b85-42d2-a22f-f0d52f0ddebf"
      },
      "source": [
        "Age = int(input(\"Enter your age:\"))\n",
        "print(type(Age))\n",
        "print(Age+1)"
      ],
      "execution_count": null,
      "outputs": [
        {
          "output_type": "stream",
          "text": [
            "Enter your age:12\n",
            "<class 'int'>\n"
          ],
          "name": "stdout"
        }
      ]
    },
    {
      "cell_type": "markdown",
      "metadata": {
        "id": "hlMqd_PWRfEj",
        "colab_type": "text"
      },
      "source": [
        "**STRING** **FORMATTING**"
      ]
    },
    {
      "cell_type": "code",
      "metadata": {
        "id": "0vwZ9OC7Iu3U",
        "colab_type": "code",
        "colab": {
          "base_uri": "https://localhost:8080/",
          "height": 34
        },
        "outputId": "ef9a190e-fd07-41e3-e804-3301f977deaf"
      },
      "source": [
        "#Multiple statements\n",
        "'''\n",
        "print(\" this is created \\\n",
        "to check multiple statements \\\n",
        "in python \\\n",
        "  \")\n",
        "'''\n",
        "Id = \\\n",
        "2\n",
        "print(Id)"
      ],
      "execution_count": 34,
      "outputs": [
        {
          "output_type": "stream",
          "text": [
            "2\n"
          ],
          "name": "stdout"
        }
      ]
    },
    {
      "cell_type": "code",
      "metadata": {
        "id": "vuOAk2__RLqZ",
        "colab_type": "code",
        "colab": {
          "base_uri": "https://localhost:8080/",
          "height": 68
        },
        "outputId": "5787e1d5-4ccd-4f0f-a7ff-b780928f1bd0"
      },
      "source": [
        "\n",
        "Name='Jen'\n",
        "print(\"I'm\",Name)\n",
        "print(f\"{Name} is a CS Grad\")\n",
        "print(\"How are you?, {}\".format(Name))"
      ],
      "execution_count": 32,
      "outputs": [
        {
          "output_type": "stream",
          "text": [
            "I'm Jen\n",
            "Jen is a CS Grad\n",
            "How are you?, Jen\n"
          ],
          "name": "stdout"
        }
      ]
    },
    {
      "cell_type": "markdown",
      "metadata": {
        "id": "QwlhKthFEOSH",
        "colab_type": "text"
      },
      "source": [
        "**BASIC OPERATORS**"
      ]
    },
    {
      "cell_type": "code",
      "metadata": {
        "id": "ID2b1DQ_ESJy",
        "colab_type": "code",
        "colab": {
          "base_uri": "https://localhost:8080/",
          "height": 136
        },
        "outputId": "356d1e83-3477-4e73-dc97-3091a2607772"
      },
      "source": [
        "a=3\n",
        "b=5\n",
        "print(\"The sum is\",a+b)\n",
        "print(\"The difference is\",a-b)\n",
        "print(f\"{a} times {b} is {a*b}\")\n",
        "print(\"The Quotient is\",a/b)\n",
        "print(\"The Remainder is\",a%b)\n",
        "print(f\"{a} to the power {b} is {a**b}\")\n",
        "print(\"The result of floor division is\",a//b)"
      ],
      "execution_count": 20,
      "outputs": [
        {
          "output_type": "stream",
          "text": [
            "The sum is 8\n",
            "The difference is -2\n",
            "3 times 5 is 15\n",
            "The Quotient is 0.6\n",
            "The Remainder is 3\n",
            "3 to the power 5 is 243\n",
            "The result of floor division is 0\n"
          ],
          "name": "stdout"
        }
      ]
    },
    {
      "cell_type": "markdown",
      "metadata": {
        "id": "CaQqt-fiRrjV",
        "colab_type": "text"
      },
      "source": [
        "**CONDITIONAL STATEMENTS**"
      ]
    },
    {
      "cell_type": "code",
      "metadata": {
        "id": "yJ32KyXBRwYG",
        "colab_type": "code",
        "colab": {
          "base_uri": "https://localhost:8080/",
          "height": 34
        },
        "outputId": "a472acd6-3735-45f2-a6bd-c7ab3d75bf56"
      },
      "source": [
        "x=23\n",
        "if x==10:\n",
        "  print(f\"The number is {x}\")\n",
        "elif x>10 and x<=30:\n",
        "  print(\"The number is between 10 and 30\")\n",
        "else:\n",
        "  print(f\"The number is {x}. Not equal to 10\")"
      ],
      "execution_count": 22,
      "outputs": [
        {
          "output_type": "stream",
          "text": [
            "The number is between 10 and 30\n"
          ],
          "name": "stdout"
        }
      ]
    },
    {
      "cell_type": "markdown",
      "metadata": {
        "id": "u3a-8ulmVNtP",
        "colab_type": "text"
      },
      "source": [
        "**FOR** **LOOP**"
      ]
    },
    {
      "cell_type": "code",
      "metadata": {
        "id": "Qzf7bRKwVRyi",
        "colab_type": "code",
        "colab": {
          "base_uri": "https://localhost:8080/",
          "height": 187
        },
        "outputId": "5f1d0b6d-9ca5-47e1-f638-52d12a057dfd"
      },
      "source": [
        "l=['a','b','c']\n",
        "for i in l:\n",
        "  print(i)\n",
        "print(\"Using Range Function\")\n",
        "for i in range(0,len(l)):\n",
        "  print(l[i])\n",
        "print(\"Loops using Steps\")  \n",
        "for i in range(0,len(l),2):\n",
        "  print(l[i])  "
      ],
      "execution_count": 28,
      "outputs": [
        {
          "output_type": "stream",
          "text": [
            "a\n",
            "b\n",
            "c\n",
            "Using Range Function\n",
            "a\n",
            "b\n",
            "c\n",
            "Loops using Steps\n",
            "a\n",
            "c\n"
          ],
          "name": "stdout"
        }
      ]
    },
    {
      "cell_type": "markdown",
      "metadata": {
        "id": "o8W7vBxDWoSR",
        "colab_type": "text"
      },
      "source": [
        "**WHILE** **LOOP**"
      ]
    },
    {
      "cell_type": "code",
      "metadata": {
        "id": "dTxW2CEkWrkl",
        "colab_type": "code",
        "colab": {
          "base_uri": "https://localhost:8080/",
          "height": 187
        },
        "outputId": "33af3558-dce9-44af-8eaa-3ade159bdfc8"
      },
      "source": [
        "num=1\n",
        "while num<=10:\n",
        "  print(num)\n",
        "  num+=1"
      ],
      "execution_count": 3,
      "outputs": [
        {
          "output_type": "stream",
          "text": [
            "1\n",
            "2\n",
            "3\n",
            "4\n",
            "5\n",
            "6\n",
            "7\n",
            "8\n",
            "9\n",
            "10\n"
          ],
          "name": "stdout"
        }
      ]
    },
    {
      "cell_type": "markdown",
      "metadata": {
        "id": "hy47ct-0yFMl",
        "colab_type": "text"
      },
      "source": [
        "**LIST**"
      ]
    },
    {
      "cell_type": "code",
      "metadata": {
        "id": "e4RGXWS-0kLx",
        "colab_type": "code",
        "colab": {
          "base_uri": "https://localhost:8080/",
          "height": 68
        },
        "outputId": "f095962a-12ec-47f6-89d6-e0d6f0d2a410"
      },
      "source": [
        "#Adding an element to the list\n",
        "name=['Rolf','Ben','Charlie','Zen']\n",
        "Stud=[]\n",
        "for i in name:\n",
        "  Stud.append(i)\n",
        "print(Stud)\n",
        "print(type(Stud))\n",
        "Stud.append('Adam')\n",
        "print(Stud)\n"
      ],
      "execution_count": null,
      "outputs": [
        {
          "output_type": "stream",
          "text": [
            "['Rolf', 'Ben', 'Charlie', 'Zen']\n",
            "<class 'list'>\n",
            "['Rolf', 'Ben', 'Charlie', 'Zen', 'Adam']\n"
          ],
          "name": "stdout"
        }
      ]
    },
    {
      "cell_type": "code",
      "metadata": {
        "id": "3WNesrq6ybTl",
        "colab_type": "code",
        "colab": {
          "base_uri": "https://localhost:8080/",
          "height": 34
        },
        "outputId": "a9e2a676-f93d-4f8a-86c7-534f1775ccc0"
      },
      "source": [
        "#Removing an element from list\n",
        "Stud.remove('Ben')\n",
        "print(Stud)"
      ],
      "execution_count": null,
      "outputs": [
        {
          "output_type": "stream",
          "text": [
            "['Rolf', 'Charlie', 'Zen', 'Adam']\n"
          ],
          "name": "stdout"
        }
      ]
    },
    {
      "cell_type": "code",
      "metadata": {
        "id": "IUT9vvSj00vR",
        "colab_type": "code",
        "colab": {
          "base_uri": "https://localhost:8080/",
          "height": 51
        },
        "outputId": "27ec9c54-c904-424f-961b-071adc652b8d"
      },
      "source": [
        "Even_Numbers = []\n",
        "for i in range(1,20):\n",
        "  if i%2==0:\n",
        "    Even_Numbers.append(i)\n",
        "print(Even_Numbers)"
      ],
      "execution_count": 10,
      "outputs": [
        {
          "output_type": "stream",
          "text": [
            "[2, 4, 6, 8, 10, 12, 14, 16, 18]\n",
            "0.0001876354217529297\n"
          ],
          "name": "stdout"
        }
      ]
    },
    {
      "cell_type": "markdown",
      "metadata": {
        "id": "qWRXiAep0GIn",
        "colab_type": "text"
      },
      "source": [
        "**LIST COMPREHENSION**"
      ]
    },
    {
      "cell_type": "code",
      "metadata": {
        "id": "nmKY439az52P",
        "colab_type": "code",
        "colab": {
          "base_uri": "https://localhost:8080/",
          "height": 51
        },
        "outputId": "b09bf282-773c-4978-c1ad-32e5a55691dd"
      },
      "source": [
        "Even_Numbers=[i for i in range(1,20) if i%2==0 ]\n",
        "print(Even_Numbers)"
      ],
      "execution_count": 11,
      "outputs": [
        {
          "output_type": "stream",
          "text": [
            "[2, 4, 6, 8, 10, 12, 14, 16, 18]\n",
            "0.0004100799560546875\n"
          ],
          "name": "stdout"
        }
      ]
    },
    {
      "cell_type": "code",
      "metadata": {
        "id": "OSBCyUxmzNqD",
        "colab_type": "code",
        "colab": {
          "base_uri": "https://localhost:8080/",
          "height": 34
        },
        "outputId": "a6c904ea-13b8-4282-868a-6fae4ea488b3"
      },
      "source": [
        "#List of Lists\n",
        "friends = [\n",
        "    [\"Rolf\", 24],\n",
        "    [\"Bob\", 30],\n",
        "    [\"Anne\", 27],\n",
        "    [\"Charlie\", 37],\n",
        "    [\"Jen\", 25],\n",
        "    [\"Adam\", 29],\n",
        "]\n",
        "\n",
        "friends.append([\"Steve\",23])\n",
        "print(friends) "
      ],
      "execution_count": null,
      "outputs": [
        {
          "output_type": "stream",
          "text": [
            "[['Rolf', 24], ['Bob', 30], ['Anne', 27], ['Charlie', 37], ['Jen', 25], ['Adam', 29], ['Steve', 23]]\n"
          ],
          "name": "stdout"
        }
      ]
    },
    {
      "cell_type": "code",
      "metadata": {
        "id": "-wA9-NH3zdsE",
        "colab_type": "code",
        "colab": {
          "base_uri": "https://localhost:8080/",
          "height": 34
        },
        "outputId": "971b2d02-7f11-41df-c897-8e03bad95379"
      },
      "source": [
        "friends.remove(\"Bob\")\n",
        "print(friends)\n"
      ],
      "execution_count": null,
      "outputs": [
        {
          "output_type": "stream",
          "text": [
            "[['Rolf', 24], ['Bob', 30], ['Anne', 27], ['Charlie', 37], ['Jen', 25], ['Adam', 29], ['Steve', 23], 'Hanna']\n"
          ],
          "name": "stdout"
        }
      ]
    },
    {
      "cell_type": "code",
      "metadata": {
        "id": "CfqJnXTezgLD",
        "colab_type": "code",
        "colab": {
          "base_uri": "https://localhost:8080/",
          "height": 34
        },
        "outputId": "d002b7dc-7b9d-4629-b5ca-46ebf4c49cd2"
      },
      "source": [
        "friends.append('Hanna')\n",
        "print(friends)"
      ],
      "execution_count": null,
      "outputs": [
        {
          "output_type": "stream",
          "text": [
            "[['Rolf', 24], ['Bob', 30], ['Anne', 27], ['Charlie', 37], ['Jen', 25], ['Adam', 29], ['Steve', 23], 'Hanna', 'Hanna']\n"
          ],
          "name": "stdout"
        }
      ]
    },
    {
      "cell_type": "markdown",
      "metadata": {
        "id": "nDQJpgCM1Ky7",
        "colab_type": "text"
      },
      "source": [
        "**TUPLES**"
      ]
    },
    {
      "cell_type": "code",
      "metadata": {
        "id": "STGoNqYR1AbR",
        "colab_type": "code",
        "colab": {
          "base_uri": "https://localhost:8080/",
          "height": 34
        },
        "outputId": "1f409a35-0acc-41fc-bd1e-f1186fb83812"
      },
      "source": [
        "Tuple1=('Happy','Energetic','Positive',1,3,2)\n",
        "Tuple2=(23,13,24)\n",
        "#Concating the tuple\n",
        "print(Tuple1+Tuple2)"
      ],
      "execution_count": null,
      "outputs": [
        {
          "output_type": "stream",
          "text": [
            "('Happy', 'Energetic', 'Positive', 1, 3, 2, 23, 13, 24)\n"
          ],
          "name": "stdout"
        }
      ]
    },
    {
      "cell_type": "code",
      "metadata": {
        "id": "v-FbGuoR2QMd",
        "colab_type": "code",
        "colab": {
          "base_uri": "https://localhost:8080/",
          "height": 231
        },
        "outputId": "c6856b63-c042-497a-d83c-547c52b35095"
      },
      "source": [
        "Tuple1+=('5',)\n",
        "print(Tuple1)\n",
        "#Deleting a single element from tuple is not possible\n",
        "del Tuple2[0] \n",
        "print(Tuple2)"
      ],
      "execution_count": null,
      "outputs": [
        {
          "output_type": "stream",
          "text": [
            "('Happy', 'Energetic', 'Positive', 1, 3, 2, '5', '5')\n"
          ],
          "name": "stdout"
        },
        {
          "output_type": "error",
          "ename": "TypeError",
          "evalue": "ignored",
          "traceback": [
            "\u001b[0;31m---------------------------------------------------------------------------\u001b[0m",
            "\u001b[0;31mTypeError\u001b[0m                                 Traceback (most recent call last)",
            "\u001b[0;32m<ipython-input-40-c5a857c86804>\u001b[0m in \u001b[0;36m<module>\u001b[0;34m()\u001b[0m\n\u001b[1;32m      1\u001b[0m \u001b[0mTuple1\u001b[0m\u001b[0;34m+=\u001b[0m\u001b[0;34m(\u001b[0m\u001b[0;34m'5'\u001b[0m\u001b[0;34m,\u001b[0m\u001b[0;34m)\u001b[0m\u001b[0;34m\u001b[0m\u001b[0;34m\u001b[0m\u001b[0m\n\u001b[1;32m      2\u001b[0m \u001b[0mprint\u001b[0m\u001b[0;34m(\u001b[0m\u001b[0mTuple1\u001b[0m\u001b[0;34m)\u001b[0m\u001b[0;34m\u001b[0m\u001b[0;34m\u001b[0m\u001b[0m\n\u001b[0;32m----> 3\u001b[0;31m \u001b[0;32mdel\u001b[0m \u001b[0mTuple2\u001b[0m\u001b[0;34m[\u001b[0m\u001b[0;36m0\u001b[0m\u001b[0;34m]\u001b[0m\u001b[0;34m\u001b[0m\u001b[0;34m\u001b[0m\u001b[0m\n\u001b[0m\u001b[1;32m      4\u001b[0m \u001b[0mprint\u001b[0m\u001b[0;34m(\u001b[0m\u001b[0mTuple2\u001b[0m\u001b[0;34m)\u001b[0m\u001b[0;34m\u001b[0m\u001b[0;34m\u001b[0m\u001b[0m\n",
            "\u001b[0;31mTypeError\u001b[0m: 'tuple' object doesn't support item deletion"
          ]
        }
      ]
    },
    {
      "cell_type": "code",
      "metadata": {
        "id": "Mrw5TnUX2unK",
        "colab_type": "code",
        "colab": {
          "base_uri": "https://localhost:8080/",
          "height": 51
        },
        "outputId": "6e238466-755d-48ee-dc3f-7a16bdaa910c"
      },
      "source": [
        "#Convert tuple as list and delete an element\n",
        "L=list(Tuple2)\n",
        "print(L)\n",
        "L.remove(L[0])\n",
        "print(L)\n"
      ],
      "execution_count": null,
      "outputs": [
        {
          "output_type": "stream",
          "text": [
            "[23, 13, 24]\n",
            "[13, 24, 'nivetha']\n"
          ],
          "name": "stdout"
        }
      ]
    },
    {
      "cell_type": "code",
      "metadata": {
        "id": "5TqZKBZ43D-u",
        "colab_type": "code",
        "colab": {
          "base_uri": "https://localhost:8080/",
          "height": 51
        },
        "outputId": "240fcdc2-11cf-454f-8af6-9cd2cf4ce022"
      },
      "source": [
        "print(len(Tuple1))\n",
        "print(max(Tuple2))"
      ],
      "execution_count": null,
      "outputs": [
        {
          "output_type": "stream",
          "text": [
            "8\n",
            "24\n"
          ],
          "name": "stdout"
        }
      ]
    },
    {
      "cell_type": "markdown",
      "metadata": {
        "id": "fuk4dRwJ5wTg",
        "colab_type": "text"
      },
      "source": [
        "**SETS**"
      ]
    },
    {
      "cell_type": "code",
      "metadata": {
        "id": "Jp1Aj7uV5PY8",
        "colab_type": "code",
        "colab": {
          "base_uri": "https://localhost:8080/",
          "height": 51
        },
        "outputId": "a0ecf85d-85e3-49b2-e9dc-73f75e1a9c02"
      },
      "source": [
        "#Adding Values to Sets \n",
        "Set1={\"apple\", \"banana\", \"cherry\",\"apple\"}\n",
        "Set1.add(\"PineApple\")\n",
        "print(Set1)\n",
        "Set1.update([\"orange\",\"Mango\"])\n",
        "print(Set1)"
      ],
      "execution_count": 35,
      "outputs": [
        {
          "output_type": "stream",
          "text": [
            "{'banana', 'cherry', 'apple', 'PineApple'}\n",
            "{'apple', 'banana', 'PineApple', 'orange', 'Mango', 'cherry'}\n"
          ],
          "name": "stdout"
        }
      ]
    },
    {
      "cell_type": "code",
      "metadata": {
        "id": "wzSkB78f7gJl",
        "colab_type": "code",
        "colab": {
          "base_uri": "https://localhost:8080/",
          "height": 197
        },
        "outputId": "ca2b1b8a-c1f1-4767-d0b0-8c08ad6517fa"
      },
      "source": [
        "#Removing an element from the set\n",
        "Set1.remove(\"orange\")\n",
        "print(Set1)\n",
        "\n",
        "#Removing an element not present in set gives error\n",
        "Set1.remove(\"orange\")"
      ],
      "execution_count": null,
      "outputs": [
        {
          "output_type": "error",
          "ename": "KeyError",
          "evalue": "ignored",
          "traceback": [
            "\u001b[0;31m---------------------------------------------------------------------------\u001b[0m",
            "\u001b[0;31mKeyError\u001b[0m                                  Traceback (most recent call last)",
            "\u001b[0;32m<ipython-input-48-f94deecc681f>\u001b[0m in \u001b[0;36m<module>\u001b[0;34m()\u001b[0m\n\u001b[0;32m----> 1\u001b[0;31m \u001b[0mSet1\u001b[0m\u001b[0;34m.\u001b[0m\u001b[0mremove\u001b[0m\u001b[0;34m(\u001b[0m\u001b[0;34m\"orange\"\u001b[0m\u001b[0;34m)\u001b[0m\u001b[0;34m\u001b[0m\u001b[0;34m\u001b[0m\u001b[0m\n\u001b[0m\u001b[1;32m      2\u001b[0m \u001b[0mprint\u001b[0m\u001b[0;34m(\u001b[0m\u001b[0mSet1\u001b[0m\u001b[0;34m)\u001b[0m\u001b[0;34m\u001b[0m\u001b[0;34m\u001b[0m\u001b[0m\n\u001b[1;32m      3\u001b[0m \u001b[0mSet1\u001b[0m\u001b[0;34m.\u001b[0m\u001b[0mremove\u001b[0m\u001b[0;34m(\u001b[0m\u001b[0;34m\"orange\"\u001b[0m\u001b[0;34m)\u001b[0m\u001b[0;34m\u001b[0m\u001b[0;34m\u001b[0m\u001b[0m\n",
            "\u001b[0;31mKeyError\u001b[0m: 'orange'"
          ]
        }
      ]
    },
    {
      "cell_type": "code",
      "metadata": {
        "id": "kkeXEp3r7oBQ",
        "colab_type": "code",
        "colab": {
          "base_uri": "https://localhost:8080/",
          "height": 34
        },
        "outputId": "b6e3ccf6-f77f-479e-b334-6bfca1d79a63"
      },
      "source": [
        "#Discarding an element not present in set doesn't raise an error.\n",
        "Set1.discard(\"orange\")\n",
        "print(Set1)"
      ],
      "execution_count": null,
      "outputs": [
        {
          "output_type": "stream",
          "text": [
            "{'cherry', 'PineApple', 'Mango', 'banana', 'apple'}\n"
          ],
          "name": "stdout"
        }
      ]
    },
    {
      "cell_type": "code",
      "metadata": {
        "id": "MvynQ7q-73Zr",
        "colab_type": "code",
        "colab": {
          "base_uri": "https://localhost:8080/",
          "height": 68
        },
        "outputId": "0bfd2410-7bb6-4e41-fc7a-7bd6de4531cc"
      },
      "source": [
        "#Set Operations\n",
        "Set2={\"Tomato\",\"Potato\",\"apple\"}\n",
        "print(Set1.union(Set2))\n",
        "print(Set1.intersection(Set2))\n",
        "print(Set1.symmetric_difference(Set2))"
      ],
      "execution_count": null,
      "outputs": [
        {
          "output_type": "stream",
          "text": [
            "{'PineApple', 'apple', 'Potato', 'Mango', 'Tomato', 'banana', 'cherry'}\n",
            "{'apple'}\n",
            "{'cherry', 'PineApple', 'Potato', 'Mango', 'Tomato', 'banana'}\n"
          ],
          "name": "stdout"
        }
      ]
    },
    {
      "cell_type": "markdown",
      "metadata": {
        "id": "TOKQ3bqw8-cM",
        "colab_type": "text"
      },
      "source": [
        "**DICTIONARY**"
      ]
    },
    {
      "cell_type": "code",
      "metadata": {
        "id": "_46aBTKP8Kfa",
        "colab_type": "code",
        "colab": {
          "base_uri": "https://localhost:8080/",
          "height": 34
        },
        "outputId": "c9dc6df8-1f0a-4d36-92a2-1819fbdac62d"
      },
      "source": [
        "#Creating a Dictionary\n",
        "friend_ages = {\"Rolf\": 24, \"Adam\": 30, \"Anne\": 27}\n",
        "print(friend_ages[\"Rolf\"]) "
      ],
      "execution_count": null,
      "outputs": [
        {
          "output_type": "stream",
          "text": [
            "24\n"
          ],
          "name": "stdout"
        }
      ]
    },
    {
      "cell_type": "code",
      "metadata": {
        "id": "xFG4EY8X-O9F",
        "colab_type": "code",
        "colab": {
          "base_uri": "https://localhost:8080/",
          "height": 34
        },
        "outputId": "1e091c24-d00f-4bd7-ab20-8d391ae4552f"
      },
      "source": [
        "#Adding new element\n",
        "friend_ages[\"Bob\"] = 20\n",
        "print(friend_ages) "
      ],
      "execution_count": null,
      "outputs": [
        {
          "output_type": "stream",
          "text": [
            "{'Rolf': 24, 'Adam': 30, 'Anne': 27, 'Bob': 20}\n"
          ],
          "name": "stdout"
        }
      ]
    },
    {
      "cell_type": "code",
      "metadata": {
        "id": "KrF0BMPB_2lu",
        "colab_type": "code",
        "colab": {
          "base_uri": "https://localhost:8080/",
          "height": 34
        },
        "outputId": "4f21d664-43f8-4fe3-c19f-119c71528e84"
      },
      "source": [
        "#Modifying existing element\n",
        "friend_ages[\"Anne\"]=30\n",
        "print(friend_ages)"
      ],
      "execution_count": null,
      "outputs": [
        {
          "output_type": "stream",
          "text": [
            "{'Rolf': 24, 'Adam': 30, 'Anne': 30, 'Bob': 20}\n"
          ],
          "name": "stdout"
        }
      ]
    },
    {
      "cell_type": "code",
      "metadata": {
        "id": "nuQ6djD9-Q7I",
        "colab_type": "code",
        "colab": {
          "base_uri": "https://localhost:8080/",
          "height": 85
        },
        "outputId": "1a12e82a-4695-490c-b8b4-e342400c4eda"
      },
      "source": [
        "#iterating using a key value pair.\n",
        "for name,age in friend_ages.items():\n",
        "  print(f\"{name} is {age} years old\")"
      ],
      "execution_count": null,
      "outputs": [
        {
          "output_type": "stream",
          "text": [
            "Rolf is 24 years old\n",
            "Adam is 30 years old\n",
            "Anne is 27 years old\n",
            "Bob is 20 years old\n"
          ],
          "name": "stdout"
        }
      ]
    },
    {
      "cell_type": "code",
      "metadata": {
        "id": "VrPezf0T-jWI",
        "colab_type": "code",
        "colab": {
          "base_uri": "https://localhost:8080/",
          "height": 85
        },
        "outputId": "18528f7a-154e-4591-f65a-0554b38c7bcf"
      },
      "source": [
        "#iterating over using keys.\n",
        "for name in friend_ages.keys():\n",
        "  print(f\"{name} is {friend_ages[name]} years old\")"
      ],
      "execution_count": null,
      "outputs": [
        {
          "output_type": "stream",
          "text": [
            "Rolf is 24 years old\n",
            "Adam is 30 years old\n",
            "Anne is 27 years old\n",
            "Bob is 20 years old\n"
          ],
          "name": "stdout"
        }
      ]
    },
    {
      "cell_type": "code",
      "metadata": {
        "id": "GN-P74n2_gvY",
        "colab_type": "code",
        "colab": {
          "base_uri": "https://localhost:8080/",
          "height": 34
        },
        "outputId": "9730c927-b6e5-4085-fb7f-01175b431c57"
      },
      "source": [
        "#remove an element from dictionary\n",
        "del friend_ages['Adam']\n",
        "print(friend_ages)"
      ],
      "execution_count": null,
      "outputs": [
        {
          "output_type": "stream",
          "text": [
            "{'Rolf': 24, 'Anne': 30, 'Bob': 20}\n"
          ],
          "name": "stdout"
        }
      ]
    },
    {
      "cell_type": "code",
      "metadata": {
        "id": "cM48M0Q_BnXf",
        "colab_type": "code",
        "colab": {
          "base_uri": "https://localhost:8080/",
          "height": 34
        },
        "outputId": "5e3cd417-0bcb-445a-ff14-00c8b66a2a26"
      },
      "source": [
        "#Modifying a Dictionary\n",
        "prices = {'apple': 40, 'orange': 35, 'banana': 25}\n",
        "for k, v in prices.items():\n",
        "    prices[k] = round(v * 0.9, 2) \n",
        "print(prices)\n"
      ],
      "execution_count": 14,
      "outputs": [
        {
          "output_type": "stream",
          "text": [
            "{'apple': 36.0, 'orange': 31.5, 'banana': 22.5}\n"
          ],
          "name": "stdout"
        }
      ]
    },
    {
      "cell_type": "markdown",
      "metadata": {
        "id": "N9HtKUN_GZrI",
        "colab_type": "text"
      },
      "source": [
        "**FUNCTIONS**\n",
        "\n",
        "A parameter is the variable listed inside the parentheses in the function definition. An argument is the value that are sent to the function when it is called."
      ]
    },
    {
      "cell_type": "code",
      "metadata": {
        "id": "IFUEeszGC3Uo",
        "colab_type": "code",
        "colab": {
          "base_uri": "https://localhost:8080/",
          "height": 34
        },
        "outputId": "8868d0cf-aeb0-4ec4-fce6-02c9021f2edb"
      },
      "source": [
        "#Functions without Parameters\n",
        "\n",
        "def greetings():\n",
        "  return \"Hello World\"\n",
        "\n",
        "\n",
        "text=greetings()\n",
        "print(text)"
      ],
      "execution_count": 16,
      "outputs": [
        {
          "output_type": "stream",
          "text": [
            "Hello World\n"
          ],
          "name": "stdout"
        }
      ]
    },
    {
      "cell_type": "code",
      "metadata": {
        "id": "6TBIqKC2DJjV",
        "colab_type": "code",
        "colab": {
          "base_uri": "https://localhost:8080/",
          "height": 34
        },
        "outputId": "52add0d3-214d-42e7-884f-70a7117a3499"
      },
      "source": [
        "#Functions with parameters\n",
        "def Sum(a,b): #Parameters\n",
        "  return a+b\n",
        "\n",
        "Result=Sum(3,5) #Arguments\n",
        "print(Result)"
      ],
      "execution_count": null,
      "outputs": [
        {
          "output_type": "stream",
          "text": [
            "8\n"
          ],
          "name": "stdout"
        }
      ]
    },
    {
      "cell_type": "markdown",
      "metadata": {
        "id": "WRQ9TshEGzGP",
        "colab_type": "text"
      },
      "source": [
        "**DEFAULT ARGUMENTS**\n",
        "            \n",
        "          Default arguments should not be followed by a non-default arguments. Arguments should be made default from the right side only.\n",
        "  "
      ]
    },
    {
      "cell_type": "code",
      "metadata": {
        "id": "h77MLInTGpfr",
        "colab_type": "code",
        "colab": {
          "base_uri": "https://localhost:8080/",
          "height": 34
        },
        "outputId": "eeeb12c6-3d70-4a9c-b40b-11737d858087"
      },
      "source": [
        "def Sum(a,b,c=10):\n",
        "  return a+b+c\n",
        "Result=Sum(3,5)\n",
        "print(Result)"
      ],
      "execution_count": null,
      "outputs": [
        {
          "output_type": "stream",
          "text": [
            "18\n"
          ],
          "name": "stdout"
        }
      ]
    },
    {
      "cell_type": "markdown",
      "metadata": {
        "id": "YALbEFRRHQIr",
        "colab_type": "text"
      },
      "source": [
        "**LAMBDA FUNCTIONS**"
      ]
    },
    {
      "cell_type": "code",
      "metadata": {
        "id": "-Y531NniG7Zh",
        "colab_type": "code",
        "colab": {
          "base_uri": "https://localhost:8080/",
          "height": 34
        },
        "outputId": "d176a8ec-c1b1-4a22-9bdf-f08f8de20d90"
      },
      "source": [
        "# Lambda is used when a function is needed for a short time\n",
        "x = lambda a, b, c : a + b + c\n",
        "print(x(5, 6, 2))"
      ],
      "execution_count": null,
      "outputs": [
        {
          "output_type": "stream",
          "text": [
            "13\n"
          ],
          "name": "stdout"
        }
      ]
    },
    {
      "cell_type": "code",
      "metadata": {
        "id": "IsjvKhlaH_Yu",
        "colab_type": "code",
        "colab": {
          "base_uri": "https://localhost:8080/",
          "height": 34
        },
        "outputId": "66299037-aa68-4b27-a19a-c2d42a853cc5"
      },
      "source": [
        "#Using lambda inside a function\n",
        "def Sum(n):\n",
        "  return lambda a,b,c : (a+b+c)*n\n",
        "\n",
        "Val=Sum(10)  \n",
        "print(Val(1,2,3))"
      ],
      "execution_count": null,
      "outputs": [
        {
          "output_type": "stream",
          "text": [
            "60\n"
          ],
          "name": "stdout"
        }
      ]
    },
    {
      "cell_type": "markdown",
      "metadata": {
        "id": "-2_OGfudJgYV",
        "colab_type": "text"
      },
      "source": [
        "**FILTER**"
      ]
    },
    {
      "cell_type": "code",
      "metadata": {
        "id": "P2sXVE-fJnut",
        "colab_type": "code",
        "colab": {
          "base_uri": "https://localhost:8080/",
          "height": 34
        },
        "outputId": "00cf89a5-df4d-4510-997d-a35e30744789"
      },
      "source": [
        "#Filtering out vowels from a Sequence without using a lambda function.\n",
        "def fun(variable): \n",
        "    letters = ['a', 'e', 'i', 'o', 'u'] \n",
        "    if (variable in letters): \n",
        "        return True\n",
        "    else: \n",
        "        return False\n",
        "  \n",
        "\n",
        "sequence = ['g', 'e', 'u', 'j', 'i', 's', 'p', 'r'] \n",
        "  \n",
        "\n",
        "filtered = filter(fun, sequence) \n",
        "print(list(filtered))  \n"
      ],
      "execution_count": null,
      "outputs": [
        {
          "output_type": "stream",
          "text": [
            "['e', 'u', 'i']\n"
          ],
          "name": "stdout"
        }
      ]
    },
    {
      "cell_type": "code",
      "metadata": {
        "id": "pYNe6aTuIo0K",
        "colab_type": "code",
        "colab": {
          "base_uri": "https://localhost:8080/",
          "height": 34
        },
        "outputId": "d375ce9f-69ba-469f-f30f-4d8701b9ed33"
      },
      "source": [
        "#using lambda in filter\n",
        "letters = ['a', 'e', 'i', 'o', 'u'] \n",
        "seq = ['g', 'e', 'u', 'j', 'i', 's', 'p', 'r'] \n",
        "\n",
        "results=filter(lambda seq:seq in letters,seq )\n",
        "print(list(results))\n"
      ],
      "execution_count": null,
      "outputs": [
        {
          "output_type": "stream",
          "text": [
            "['e', 'u', 'i']\n"
          ],
          "name": "stdout"
        }
      ]
    },
    {
      "cell_type": "markdown",
      "metadata": {
        "id": "gCyE-QEJNE0C",
        "colab_type": "text"
      },
      "source": [
        "**MAP**"
      ]
    },
    {
      "cell_type": "code",
      "metadata": {
        "id": "gFZrRoeuOU_e",
        "colab_type": "code",
        "colab": {
          "base_uri": "https://localhost:8080/",
          "height": 34
        },
        "outputId": "9a2996d6-c819-417e-df9d-29adf3b035f6"
      },
      "source": [
        "#Function without using map and lambda\n",
        "def ChangeCase(Names):\n",
        "  ChangedCase=[]\n",
        "  for i in Names:\n",
        "    ChangedCase.append(i.title())\n",
        "  return ChangedCase \n",
        "\n",
        "Names=['albert jones','alfred nobel','thomas edison','usain bolt']\n",
        "Result=ChangeCase(Names)\n",
        "print(Result)"
      ],
      "execution_count": null,
      "outputs": [
        {
          "output_type": "stream",
          "text": [
            "['Albert Jones', 'Alfred Nobel', 'Thomas Edison', 'Usain Bolt']\n"
          ],
          "name": "stdout"
        }
      ]
    },
    {
      "cell_type": "code",
      "metadata": {
        "id": "QrrQ9f5kNEBD",
        "colab_type": "code",
        "colab": {
          "base_uri": "https://localhost:8080/",
          "height": 34
        },
        "outputId": "06c1da17-fa0f-4bb8-e3c0-b4995b51e5ea"
      },
      "source": [
        "#Same Function with Map and Lambda\n",
        "Names=['albert jones','alfred nobel','thomas edison','usain bolt']\n",
        "Result=map(lambda t: t.title(),Names)\n",
        "print(list(Result))"
      ],
      "execution_count": null,
      "outputs": [
        {
          "output_type": "stream",
          "text": [
            "['Albert Jones', 'Alfred Nobel', 'Thomas Edison', 'Usain Bolt']\n"
          ],
          "name": "stdout"
        }
      ]
    },
    {
      "cell_type": "code",
      "metadata": {
        "id": "RpVmhQXSJmhN",
        "colab_type": "code",
        "colab": {}
      },
      "source": [
        ""
      ],
      "execution_count": null,
      "outputs": []
    }
  ]
}